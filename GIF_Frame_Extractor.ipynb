{
  "nbformat": 4,
  "nbformat_minor": 0,
  "metadata": {
    "colab": {
      "provenance": [],
      "authorship_tag": "ABX9TyOk+1tChdyFpRu2t73eQVay",
      "include_colab_link": true
    },
    "kernelspec": {
      "name": "python3",
      "display_name": "Python 3"
    },
    "language_info": {
      "name": "python"
    }
  },
  "cells": [
    {
      "cell_type": "markdown",
      "metadata": {
        "id": "view-in-github",
        "colab_type": "text"
      },
      "source": [
        "<a href=\"https://colab.research.google.com/github/trippyvortex/GIF_Frame_Extractor/blob/main/GIF_Frame_Extractor.ipynb\" target=\"_parent\"><img src=\"https://colab.research.google.com/assets/colab-badge.svg\" alt=\"Open In Colab\"/></a>"
      ]
    },
    {
      "cell_type": "markdown",
      "source": [
        "##Function to extract frames from a GIF and save them"
      ],
      "metadata": {
        "id": "5CrrvSjnpYP2"
      }
    },
    {
      "cell_type": "code",
      "source": [
        "# Mount Google Drive to save extracted frames\n",
        "from google.colab import drive\n",
        "drive.mount('/content/drive')\n",
        "\n",
        "# Install necessary libraries\n",
        "!pip install imageio\n",
        "!pip install ipywidgets\n",
        "\n",
        "# Import required libraries\n",
        "import imageio\n",
        "import os\n",
        "from ipywidgets import widgets\n",
        "from IPython.display import display\n",
        "\n",
        "# Function to extract frames from a GIF and save them\n",
        "def extract_frames(gif_path, output_folder):\n",
        "    gif = imageio.get_reader(gif_path)\n",
        "\n",
        "    # Create the output folder if it doesn't exist\n",
        "    if not os.path.exists(output_folder):\n",
        "        os.makedirs(output_folder)\n",
        "\n",
        "    frame_paths = []\n",
        "    for i, frame in enumerate(gif):\n",
        "        frame_path = os.path.join(output_folder, f\"frame_{i:04d}.png\")\n",
        "        imageio.imsave(frame_path, frame)\n",
        "        frame_paths.append(frame_path)\n",
        "\n",
        "    return frame_paths\n",
        "\n",
        "# Form to enter GIF path and parameters\n",
        "#@markdown Enter the path to the GIF file:\n",
        "gif_path = \"/content/input.gif\" #@param {type:\"string\"}\n",
        "\n",
        "#@markdown (Optional) Enter the output folder path:\n",
        "output_folder = \"/content/frames\" #@param {type:\"string\"}\n",
        "\n",
        "if not os.path.exists(output_folder):\n",
        "    os.makedirs(output_folder)\n",
        "\n",
        "# Execute the function to extract frames and display the output\n",
        "def extract_frames_and_display(gif_path, output_folder):\n",
        "    if os.path.isfile(gif_path):\n",
        "        frames = extract_frames(gif_path, output_folder)\n",
        "        print(f'Frames extracted: {len(frames)}')\n",
        "    else:\n",
        "        print(f'Error: File \"{gif_path}\" not found.')\n",
        "\n",
        "extract_frames_and_display(gif_path, output_folder)\n"
      ],
      "metadata": {
        "id": "dGoikq0OrIxk"
      },
      "execution_count": null,
      "outputs": []
    }
  ]
}