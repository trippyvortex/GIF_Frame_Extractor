{
  "nbformat": 4,
  "nbformat_minor": 0,
  "metadata": {
    "colab": {
      "provenance": [],
      "authorship_tag": "ABX9TyMnsn/5Rx7os3ozTeHcK4iO",
      "include_colab_link": true
    },
    "kernelspec": {
      "name": "python3",
      "display_name": "Python 3"
    },
    "language_info": {
      "name": "python"
    }
  },
  "cells": [
    {
      "cell_type": "markdown",
      "metadata": {
        "id": "view-in-github",
        "colab_type": "text"
      },
      "source": [
        "<a href=\"https://colab.research.google.com/github/trippyvortex/GIF_Frame_Extractor/blob/main/GIF_Frame_Extractor.ipynb\" target=\"_parent\"><img src=\"https://colab.research.google.com/assets/colab-badge.svg\" alt=\"Open In Colab\"/></a>"
      ]
    },
    {
      "cell_type": "code",
      "execution_count": null,
      "metadata": {
        "id": "TlOthXs_yeD3"
      },
      "outputs": [],
      "source": [
        "# Mount Google Drive to save extracted frames\n",
        "from google.colab import drive\n",
        "drive.mount('/content/drive')\n",
        "\n",
        "# Install necessary libraries\n",
        "!pip install imageio\n",
        "!pip install ipywidgets\n",
        "\n",
        "# Import required libraries\n",
        "import imageio\n",
        "import os\n",
        "from ipywidgets import widgets\n",
        "from IPython.display import display\n",
        "\n",
        "# Function to extract frames from a GIF and save them\n",
        "def extract_frames(gif_path, output_folder):\n",
        "    gif = imageio.get_reader(gif_path)\n",
        "\n",
        "    # Create the output folder if it doesn't exist\n",
        "    if not os.path.exists(output_folder):\n",
        "        os.makedirs(output_folder)\n",
        "\n",
        "    frame_paths = []\n",
        "    for i, frame in enumerate(gif):\n",
        "        frame_path = os.path.join(output_folder, f\"frame_{i:04d}.png\")\n",
        "        imageio.imsave(frame_path, frame)\n",
        "        frame_paths.append(frame_path)\n",
        "\n",
        "    return frame_paths\n",
        "\n",
        "# Create a file upload widget\n",
        "uploader = widgets.FileUpload(accept='.gif', multiple=False)\n",
        "display(uploader)\n",
        "\n",
        "def on_upload_change(change):\n",
        "    if uploader.value:\n",
        "        uploaded_file = list(uploader.value.values())[0]\n",
        "        with open('/content/input.gif', 'wb') as f:\n",
        "            f.write(uploaded_file['content'])\n",
        "        frames = extract_frames('/content/input.gif', '/content/frames')\n",
        "        print(f'Frames extracted: {len(frames)}')\n",
        "\n",
        "uploader.observe(on_upload_change, names='value')\n",
        "\n",
        "# Create a button to download frames\n",
        "download_button = widgets.Button(description='Download Frames')\n",
        "\n",
        "def download_frames(_):\n",
        "    !zip -r -q /content/frames.zip /content/frames\n",
        "    print('Frames zipped. Downloading...')\n",
        "    from google.colab import files\n",
        "    files.download('/content/frames.zip')\n",
        "\n",
        "download_button.on_click(download_frames)\n",
        "display(download_button)\n"
      ]
    }
  ]
}